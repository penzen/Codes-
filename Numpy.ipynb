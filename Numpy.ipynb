{
  "nbformat": 4,
  "nbformat_minor": 0,
  "metadata": {
    "kernelspec": {
      "display_name": "Python 3",
      "language": "python",
      "name": "python3"
    },
    "language_info": {
      "codemirror_mode": {
        "name": "ipython",
        "version": 3
      },
      "file_extension": ".py",
      "mimetype": "text/x-python",
      "name": "python",
      "nbconvert_exporter": "python",
      "pygments_lexer": "ipython3",
      "version": "3.8.5"
    },
    "colab": {
      "name": "Numpy.ipynb",
      "provenance": [],
      "include_colab_link": true
    }
  },
  "cells": [
    {
      "cell_type": "markdown",
      "metadata": {
        "id": "view-in-github",
        "colab_type": "text"
      },
      "source": [
        "<a href=\"https://colab.research.google.com/github/penzen/Codes-/blob/master/Numpy.ipynb\" target=\"_parent\"><img src=\"https://colab.research.google.com/assets/colab-badge.svg\" alt=\"Open In Colab\"/></a>"
      ]
    },
    {
      "cell_type": "code",
      "metadata": {
        "id": "ZtZ9SoEe3RDd",
        "outputId": "d575e3ec-5ee8-4430-ddce-5a9b88dfe079"
      },
      "source": [
        "import numpy as np \n",
        "\n",
        "array_2 = np.arange(1,4)  #similar to range creates an array from 0 to 3\n",
        "array_o = np.arange(1,4) \n",
        "\n",
        "#double ** means power in python \n",
        "\n",
        "#np_array crates a numppy array \n",
        "print(np.power(np.array([1,2,3]), 4)) #another way to modify using power \n",
        "print (array_2 + array_o)\n",
        "\n",
        "\n"
      ],
      "execution_count": null,
      "outputs": [
        {
          "output_type": "stream",
          "text": [
            "[ 1 16 81]\n",
            "[2 4 6]\n"
          ],
          "name": "stdout"
        }
      ]
    },
    {
      "cell_type": "code",
      "metadata": {
        "id": "9TBYZiY43RDm",
        "outputId": "b94c7442-98ee-4137-b9cf-6a571b810f68"
      },
      "source": [
        "# common maths oprators \n",
        "example = np.arange(1,10)\n",
        "print(np.negative(example)) #negative output. \n",
        "print(np.exp(example))#exponents\n",
        "print(np.log(example)) #log\n",
        "print(np.sin(example))#sin\n",
        "example"
      ],
      "execution_count": null,
      "outputs": [
        {
          "output_type": "stream",
          "text": [
            "[-1 -2 -3 -4 -5 -6 -7 -8 -9]\n",
            "[2.71828183e+00 7.38905610e+00 2.00855369e+01 5.45981500e+01\n",
            " 1.48413159e+02 4.03428793e+02 1.09663316e+03 2.98095799e+03\n",
            " 8.10308393e+03]\n",
            "[0.         0.69314718 1.09861229 1.38629436 1.60943791 1.79175947\n",
            " 1.94591015 2.07944154 2.19722458]\n",
            "[ 0.84147098  0.90929743  0.14112001 -0.7568025  -0.95892427 -0.2794155\n",
            "  0.6569866   0.98935825  0.41211849]\n"
          ],
          "name": "stdout"
        },
        {
          "output_type": "execute_result",
          "data": {
            "text/plain": [
              "array([1, 2, 3, 4, 5, 6, 7, 8, 9])"
            ]
          },
          "metadata": {
            "tags": []
          },
          "execution_count": 33
        }
      ]
    },
    {
      "cell_type": "code",
      "metadata": {
        "id": "GOfpdouf3RDp",
        "outputId": "37610fdd-d6cb-4288-fc21-a0d51e0649b0"
      },
      "source": [
        "#multidimentional array \n",
        "\n",
        "x = np.arange(3)\n",
        "y = np.arange(3)\n",
        "z = np.arange(3)\n",
        "\n",
        "multi_array = np.array([x,y,z], dtype = np.int16) # comblines arrays \n",
        "#dtype is used to change the type for memory\n",
        "\n",
        "print(multi_array)\n",
        "print(multi_array.shape) #shows 3/3 array shape\n",
        "print(multi_array[0,2])\n",
        "print(multi_array.dtype)#prints out type."
      ],
      "execution_count": null,
      "outputs": [
        {
          "output_type": "stream",
          "text": [
            "[[0 1 2]\n",
            " [0 1 2]\n",
            " [0 1 2]]\n",
            "(3, 3)\n",
            "2\n",
            "int16\n"
          ],
          "name": "stdout"
        }
      ]
    },
    {
      "cell_type": "code",
      "metadata": {
        "id": "8i2Mj8_y3RDr",
        "outputId": "0b8685df-35c8-45e9-864f-aa1c3853d1de"
      },
      "source": [
        " b = np.linspace(1,10,100) # grabes number from 1 to 10 and 100 samples.\n",
        "print(b)"
      ],
      "execution_count": null,
      "outputs": [
        {
          "output_type": "stream",
          "text": [
            "[ 1.          1.09090909  1.18181818  1.27272727  1.36363636  1.45454545\n",
            "  1.54545455  1.63636364  1.72727273  1.81818182  1.90909091  2.\n",
            "  2.09090909  2.18181818  2.27272727  2.36363636  2.45454545  2.54545455\n",
            "  2.63636364  2.72727273  2.81818182  2.90909091  3.          3.09090909\n",
            "  3.18181818  3.27272727  3.36363636  3.45454545  3.54545455  3.63636364\n",
            "  3.72727273  3.81818182  3.90909091  4.          4.09090909  4.18181818\n",
            "  4.27272727  4.36363636  4.45454545  4.54545455  4.63636364  4.72727273\n",
            "  4.81818182  4.90909091  5.          5.09090909  5.18181818  5.27272727\n",
            "  5.36363636  5.45454545  5.54545455  5.63636364  5.72727273  5.81818182\n",
            "  5.90909091  6.          6.09090909  6.18181818  6.27272727  6.36363636\n",
            "  6.45454545  6.54545455  6.63636364  6.72727273  6.81818182  6.90909091\n",
            "  7.          7.09090909  7.18181818  7.27272727  7.36363636  7.45454545\n",
            "  7.54545455  7.63636364  7.72727273  7.81818182  7.90909091  8.\n",
            "  8.09090909  8.18181818  8.27272727  8.36363636  8.45454545  8.54545455\n",
            "  8.63636364  8.72727273  8.81818182  8.90909091  9.          9.09090909\n",
            "  9.18181818  9.27272727  9.36363636  9.45454545  9.54545455  9.63636364\n",
            "  9.72727273  9.81818182  9.90909091 10.        ]\n"
          ],
          "name": "stdout"
        }
      ]
    },
    {
      "cell_type": "code",
      "metadata": {
        "id": "sBUf9xue3RDt",
        "outputId": "152f64c8-9dd0-4c23-cd86-b1fc2da5ab1e"
      },
      "source": [
        "# slicing \n",
        "z = np.arange(1,10)\n",
        "print(z[1:4:2]) #slicing from index 1 to 4 and the last variable signifnifies a step between numbers \n",
        "\n",
        "print(z)"
      ],
      "execution_count": null,
      "outputs": [
        {
          "output_type": "stream",
          "text": [
            "[2 4]\n",
            "[1 2 3 4 5 6 7 8 9]\n"
          ],
          "name": "stdout"
        }
      ]
    },
    {
      "cell_type": "code",
      "metadata": {
        "id": "AfoNlAhl3RDu",
        "outputId": "b7820f4a-133c-40b5-ab84-b03651366e25"
      },
      "source": [
        "#reshaping \n",
        "print (z)\n",
        "z = np.arange(10).reshape(10,-1) #reshapes a single array into multiple \n",
        "#remember that the shape of the array has to match with the number of elements \n",
        "# the -1 will put all the data into the specifed amount of rows \n",
        "#-1 automates the colom part. \n",
        "# z = np.arange(10).reshape(3,3) normal way to do it. \n",
        "#z = np.arange(18).reshape(3,3,2) changes into block of arrrays \n"
      ],
      "execution_count": null,
      "outputs": [
        {
          "output_type": "stream",
          "text": [
            "[[[ 0  1]\n",
            "  [ 2  3]\n",
            "  [ 4  5]]\n",
            "\n",
            " [[ 6  7]\n",
            "  [ 8  9]\n",
            "  [10 11]]\n",
            "\n",
            " [[12 13]\n",
            "  [14 15]\n",
            "  [16 17]]]\n",
            "[[[ 0  1]\n",
            "  [ 2  3]\n",
            "  [ 4  5]]\n",
            "\n",
            " [[ 6  7]\n",
            "  [ 8  9]\n",
            "  [10 11]]\n",
            "\n",
            " [[12 13]\n",
            "  [14 15]\n",
            "  [16 17]]]\n"
          ],
          "name": "stdout"
        }
      ]
    },
    {
      "cell_type": "code",
      "metadata": {
        "id": "gqvsrVD93RDx",
        "outputId": "8b8dbee6-9302-4a9a-c9f8-a0642c01fa4f"
      },
      "source": [
        "# slcing multidimentional arrays \n",
        "print(z)\n",
        "z[2,1,0]\n",
        "z[0,1,1]\n",
        "z[2,1:3,0:3] #slicing multidentional array\n",
        "z[1, 1 , 1]\n",
        "\n",
        "print(x[x > 5]) #prints out everything  everything greter than 5"
      ],
      "execution_count": null,
      "outputs": [
        {
          "output_type": "stream",
          "text": [
            "[[[ 0  1]\n",
            "  [ 2  3]\n",
            "  [ 4  5]]\n",
            "\n",
            " [[ 6  7]\n",
            "  [ 8  9]\n",
            "  [10 11]]\n",
            "\n",
            " [[12 13]\n",
            "  [14 15]\n",
            "  [16 17]]]\n",
            "[]\n"
          ],
          "name": "stdout"
        }
      ]
    },
    {
      "cell_type": "code",
      "metadata": {
        "id": "l_08PwFa3RDz",
        "outputId": "e0f8a5a1-3276-4676-9c3f-51b0d7f1d8fc"
      },
      "source": [
        "z = np.arange(20).reshape(4,-1)\n",
        "rav = z.ravel() # flatens the array to a single D arry\n",
        "# ravel changes the original array \n",
        "flat = z.flatten() #flatten provides a new copy \n",
        "#both ravel and flatten provides the same funtion with diffrence.\n",
        "print(rav)\n",
        "\n",
        "#np.resize\n",
        "#np.t()/ np.transpose()\n",
        "#np.eye(3) three rows and three coloms sqare shape \n",
        "#np.random.rand(4,4) random numbers. "
      ],
      "execution_count": null,
      "outputs": [
        {
          "output_type": "stream",
          "text": [
            "[ 0  1  2  3  4  5  6  7  8  9 10 11 12 13 14 15 16 17 18 19]\n"
          ],
          "name": "stdout"
        }
      ]
    },
    {
      "cell_type": "code",
      "metadata": {
        "id": "g1kSgFw13RD2",
        "outputId": "06adb581-62b9-44c6-91a0-11772d28f867"
      },
      "source": [
        "#matrix multipication \n",
        "#the coloms of matrix a should equal to rows of matrix b\n",
        "#only then can it be multiplied.\n",
        "\n",
        "\n",
        "mat_a = np.matrix([0,3,5,7,8,9]).reshape(2,3)#two rows three coloms\n",
        "mat_b = np.matrix([0,3,5,7,8,9]).reshape(3,2)#three rows two coloms \n",
        "\n",
        "mat_a * mat_b"
      ],
      "execution_count": null,
      "outputs": [
        {
          "output_type": "execute_result",
          "data": {
            "text/plain": [
              "matrix([[ 55,  66],\n",
              "        [112, 158]])"
            ]
          },
          "metadata": {
            "tags": []
          },
          "execution_count": 135
        }
      ]
    }
  ]
}