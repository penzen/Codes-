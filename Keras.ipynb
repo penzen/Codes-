{
  "nbformat": 4,
  "nbformat_minor": 0,
  "metadata": {
    "colab": {
      "name": "Keras.ipynb",
      "provenance": [],
      "collapsed_sections": [],
      "authorship_tag": "ABX9TyPe/wjOHKoGSvaSrNFi8AGD",
      "include_colab_link": true
    },
    "kernelspec": {
      "name": "python3",
      "display_name": "Python 3"
    },
    "language_info": {
      "name": "python"
    }
  },
  "cells": [
    {
      "cell_type": "markdown",
      "metadata": {
        "id": "view-in-github",
        "colab_type": "text"
      },
      "source": [
        "<a href=\"https://colab.research.google.com/github/penzen/Codes-/blob/master/Keras.ipynb\" target=\"_parent\"><img src=\"https://colab.research.google.com/assets/colab-badge.svg\" alt=\"Open In Colab\"/></a>"
      ]
    },
    {
      "cell_type": "code",
      "metadata": {
        "colab": {
          "base_uri": "https://localhost:8080/",
          "height": 283
        },
        "id": "bgBRudSIVc2g",
        "outputId": "e58a56e5-f055-44f6-e6ab-1c02a24fa072"
      },
      "source": [
        "import numpy as np \n",
        "import tensorflow.keras \n",
        "from tensorflow.keras.models import Sequential \n",
        "from tensorflow.keras.layers import Dense  # every node is the layer is connected to the presiding node in the layer. \n",
        "from tensorflow.keras.optimizers import Adam  # stochastic gradient descent more reasurch needed. \n",
        "import matplotlib.pyplot as plt \n",
        "%matplotlib inline \n",
        "\n",
        "n_pts = 500\n",
        "np.random.seed(0)\n",
        "Xa = np.array([np.random.normal(13, 2, n_pts),\n",
        "               np.random.normal(12, 2, n_pts)]).T\n",
        "Xb = np.array([np.random.normal(8, 2, n_pts),\n",
        "               np.random.normal(6, 2, n_pts)]).T\n",
        " \n",
        "X = np.vstack((Xa, Xb))\n",
        "y = np.matrix(np.append(np.zeros(n_pts), np.ones(n_pts))).T\n",
        " \n",
        "plt.scatter(X[:n_pts,0], X[:n_pts,1])\n",
        "plt.scatter(X[n_pts:,0], X[n_pts:,1])\n"
      ],
      "execution_count": 7,
      "outputs": [
        {
          "output_type": "execute_result",
          "data": {
            "text/plain": [
              "<matplotlib.collections.PathCollection at 0x7fddfeef1c10>"
            ]
          },
          "metadata": {
            "tags": []
          },
          "execution_count": 7
        },
        {
          "output_type": "display_data",
          "data": {
            "image/png": "[encoded data removed]",
            "text/plain": [
              "<Figure size 432x288 with 1 Axes>"
            ]
          },
          "metadata": {
            "tags": [],
            "needs_background": "light"
          }
        }
      ]
    },
    {
      "cell_type": "code",
      "metadata": {
        "colab": {
          "base_uri": "https://localhost:8080/"
        },
        "id": "oWp8NBUIXh5S",
        "outputId": "644118cc-7569-49a7-9cca-2f2856805462"
      },
      "source": [
        "model = Sequential()\n",
        "model.add(Dense(units = 1, input_shape = (2,), activation ='sigmoid')) # the two is for the inputs x1 and x2. \n",
        "#sigmoid does it for you\n",
        "adam = Adam(lr = 0.1) # optimizaion algorithm.  lr is the learning rate. \n",
        "model.compile(adam,loss = 'binary_crossentropy' , metrics = ['accuracy'])# matrics juges the performacne at every epoc\n",
        "h = model.fit(x = X,y = y, verbose = 1, batch_size = 50, epochs = 50, shuffle = 'true') #epock itterates through the whole thing\n",
        "# h trains the model \n",
        "# verbose displays the progress bar and prints the performce \n",
        "#epoc ittrates through the intrial data set \n",
        "# batch size should be suffiecent data size \n",
        "#epochs is the amount of time it itterates, thorugh the whole model\n",
        "# epocs help itteration help with classification of the model 6\n",
        "# shuffle shuffle the epoc  after each itteration. "
      ],
      "execution_count": 8,
      "outputs": [
        {
          "output_type": "stream",
          "text": [
            "/usr/local/lib/python3.7/dist-packages/tensorflow/python/keras/optimizer_v2/optimizer_v2.py:375: UserWarning: The `lr` argument is deprecated, use `learning_rate` instead.\n",
            "  \"The `lr` argument is deprecated, use `learning_rate` instead.\")\n"
          ],
          "name": "stderr"
        },
        {
          "output_type": "stream",
          "text": [
            "Epoch 1/50\n",
            "20/20 [==============================] - 0s 1ms/step - loss: 1.3592 - accuracy: 0.5230\n",
            "Epoch 2/50\n",
            "20/20 [==============================] - 0s 1ms/step - loss: 0.6475 - accuracy: 0.6370\n",
            "Epoch 3/50\n",
            "20/20 [==============================] - 0s 2ms/step - loss: 0.5061 - accuracy: 0.7580\n",
            "Epoch 4/50\n",
            "20/20 [==============================] - 0s 2ms/step - loss: 0.4387 - accuracy: 0.8150\n",
            "Epoch 5/50\n",
            "20/20 [==============================] - 0s 1ms/step - loss: 0.3893 - accuracy: 0.8810\n",
            "Epoch 6/50\n",
            "20/20 [==============================] - 0s 1ms/step - loss: 0.3372 - accuracy: 0.9070\n",
            "Epoch 7/50\n",
            "20/20 [==============================] - 0s 1ms/step - loss: 0.2985 - accuracy: 0.9270\n",
            "Epoch 8/50\n",
            "20/20 [==============================] - 0s 1ms/step - loss: 0.2766 - accuracy: 0.9400\n",
            "Epoch 9/50\n",
            "20/20 [==============================] - 0s 1ms/step - loss: 0.2471 - accuracy: 0.9530\n",
            "Epoch 10/50\n",
            "20/20 [==============================] - 0s 1ms/step - loss: 0.2245 - accuracy: 0.9540\n",
            "Epoch 11/50\n",
            "20/20 [==============================] - 0s 2ms/step - loss: 0.2080 - accuracy: 0.9660\n",
            "Epoch 12/50\n",
            "20/20 [==============================] - 0s 1ms/step - loss: 0.1937 - accuracy: 0.9640\n",
            "Epoch 13/50\n",
            "20/20 [==============================] - 0s 1ms/step - loss: 0.1872 - accuracy: 0.9640\n",
            "Epoch 14/50\n",
            "20/20 [==============================] - 0s 1ms/step - loss: 0.1741 - accuracy: 0.9650\n",
            "Epoch 15/50\n",
            "20/20 [==============================] - 0s 1ms/step - loss: 0.1667 - accuracy: 0.9650\n",
            "Epoch 16/50\n",
            "20/20 [==============================] - 0s 1ms/step - loss: 0.1582 - accuracy: 0.9690\n",
            "Epoch 17/50\n",
            "20/20 [==============================] - 0s 1ms/step - loss: 0.1503 - accuracy: 0.9650\n",
            "Epoch 18/50\n",
            "20/20 [==============================] - 0s 2ms/step - loss: 0.1441 - accuracy: 0.9730\n",
            "Epoch 19/50\n",
            "20/20 [==============================] - 0s 2ms/step - loss: 0.1384 - accuracy: 0.9700\n",
            "Epoch 20/50\n",
            "20/20 [==============================] - 0s 1ms/step - loss: 0.1330 - accuracy: 0.9770\n",
            "Epoch 21/50\n",
            "20/20 [==============================] - 0s 1ms/step - loss: 0.1339 - accuracy: 0.9730\n",
            "Epoch 22/50\n",
            "20/20 [==============================] - 0s 2ms/step - loss: 0.1324 - accuracy: 0.9670\n",
            "Epoch 23/50\n",
            "20/20 [==============================] - 0s 1ms/step - loss: 0.1333 - accuracy: 0.9650\n",
            "Epoch 24/50\n",
            "20/20 [==============================] - 0s 2ms/step - loss: 0.1221 - accuracy: 0.9750\n",
            "Epoch 25/50\n",
            "20/20 [==============================] - 0s 2ms/step - loss: 0.1197 - accuracy: 0.9710\n",
            "Epoch 26/50\n",
            "20/20 [==============================] - 0s 1ms/step - loss: 0.1118 - accuracy: 0.9730\n",
            "Epoch 27/50\n",
            "20/20 [==============================] - 0s 1ms/step - loss: 0.1142 - accuracy: 0.9680\n",
            "Epoch 28/50\n",
            "20/20 [==============================] - 0s 1ms/step - loss: 0.1090 - accuracy: 0.9750\n",
            "Epoch 29/50\n",
            "20/20 [==============================] - 0s 2ms/step - loss: 0.1088 - accuracy: 0.9720\n",
            "Epoch 30/50\n",
            "20/20 [==============================] - 0s 2ms/step - loss: 0.1031 - accuracy: 0.9770\n",
            "Epoch 31/50\n",
            "20/20 [==============================] - 0s 1ms/step - loss: 0.1076 - accuracy: 0.9710\n",
            "Epoch 32/50\n",
            "20/20 [==============================] - 0s 1ms/step - loss: 0.1086 - accuracy: 0.9670\n",
            "Epoch 33/50\n",
            "20/20 [==============================] - 0s 1ms/step - loss: 0.1064 - accuracy: 0.9700\n",
            "Epoch 34/50\n",
            "20/20 [==============================] - 0s 1ms/step - loss: 0.1013 - accuracy: 0.9710\n",
            "Epoch 35/50\n",
            "20/20 [==============================] - 0s 1ms/step - loss: 0.0975 - accuracy: 0.9730\n",
            "Epoch 36/50\n",
            "20/20 [==============================] - 0s 1ms/step - loss: 0.0939 - accuracy: 0.9760\n",
            "Epoch 37/50\n",
            "20/20 [==============================] - 0s 1ms/step - loss: 0.0991 - accuracy: 0.9700\n",
            "Epoch 38/50\n",
            "20/20 [==============================] - 0s 1ms/step - loss: 0.0944 - accuracy: 0.9740\n",
            "Epoch 39/50\n",
            "20/20 [==============================] - 0s 1ms/step - loss: 0.0929 - accuracy: 0.9720\n",
            "Epoch 40/50\n",
            "20/20 [==============================] - 0s 2ms/step - loss: 0.0939 - accuracy: 0.9720\n",
            "Epoch 41/50\n",
            "20/20 [==============================] - 0s 1ms/step - loss: 0.0872 - accuracy: 0.9760\n",
            "Epoch 42/50\n",
            "20/20 [==============================] - 0s 1ms/step - loss: 0.0876 - accuracy: 0.9780\n",
            "Epoch 43/50\n",
            "20/20 [==============================] - 0s 1ms/step - loss: 0.0849 - accuracy: 0.9760\n",
            "Epoch 44/50\n",
            "20/20 [==============================] - 0s 1ms/step - loss: 0.0848 - accuracy: 0.9770\n",
            "Epoch 45/50\n",
            "20/20 [==============================] - 0s 1ms/step - loss: 0.0845 - accuracy: 0.9780\n",
            "Epoch 46/50\n",
            "20/20 [==============================] - 0s 1ms/step - loss: 0.0829 - accuracy: 0.9740\n",
            "Epoch 47/50\n",
            "20/20 [==============================] - 0s 1ms/step - loss: 0.0889 - accuracy: 0.9760\n",
            "Epoch 48/50\n",
            "20/20 [==============================] - 0s 1ms/step - loss: 0.0900 - accuracy: 0.9710\n",
            "Epoch 49/50\n",
            "20/20 [==============================] - 0s 1ms/step - loss: 0.0838 - accuracy: 0.9750\n",
            "Epoch 50/50\n",
            "20/20 [==============================] - 0s 1ms/step - loss: 0.0861 - accuracy: 0.9750\n"
          ],
          "name": "stdout"
        }
      ]
    },
    {
      "cell_type": "code",
      "metadata": {
        "colab": {
          "base_uri": "https://localhost:8080/",
          "height": 301
        },
        "id": "7egABi4QfWCZ",
        "outputId": "2fb61894-e113-4578-efe4-4c3a49b0d40a"
      },
      "source": [
        "plt.plot(h.history['accuracy'])\n",
        "plt.legend(['accuracy'])\n",
        "plt.ylabel('accuracy')\n",
        "plt.xlabel('epoch')\n",
        " \n",
        "#plt.plot(h.history['loss'])\n",
        "#plt.legend(['loss'])\n",
        "#plt.title('loss')\n",
        "#plt.xlabel('epoch')"
      ],
      "execution_count": 9,
      "outputs": [
        {
          "output_type": "execute_result",
          "data": {
            "text/plain": [
              "Text(0.5, 0, 'epoch')"
            ]
          },
          "metadata": {
            "tags": []
          },
          "execution_count": 9
        },
        {
          "output_type": "display_data",
          "data": {
            "image/png": "[encoded data removed]",
            "text/plain": [
              "<Figure size 432x288 with 1 Axes>"
            ]
          },
          "metadata": {
            "tags": [],
            "needs_background": "light"
          }
        }
      ]
    },
    {
      "cell_type": "code",
      "metadata": {
        "colab": {
          "base_uri": "https://localhost:8080/",
          "height": 131
        },
        "id": "0Y420tL0xRLm",
        "outputId": "7d6f8a04-2fec-4bf8-b57a-f395d2a6ac8b"
      },
      "source": [
        "def plot_desision(X,y,model):# x is the data we created(Points), y is the matrix that contains label for the model, \n",
        "   x_span = np.linspace(min(X[:, 0]), max(X[:, 0])) #give us the minimun horigontal value in the first c\n",
        "   y_span = np.linspace(min(X[:, 1]), max(X[:, 1]))\n",
        "   \n",
        "\n",
        "\n",
        "def plot_desision(X,y,model)\n",
        "#and the third is the sequenbceal model that contains out neaural network model\n",
        "\n"
      ],
      "execution_count": 10,
      "outputs": [
        {
          "output_type": "error",
          "ename": "SyntaxError",
          "evalue": "ignored",
          "traceback": [
            "\u001b[0;36m  File \u001b[0;32m\"<ipython-input-10-fd4af8a0d41f>\"\u001b[0;36m, line \u001b[0;32m6\u001b[0m\n\u001b[0;31m    def plot_desision(X,y,model)\u001b[0m\n\u001b[0m                                ^\u001b[0m\n\u001b[0;31mSyntaxError\u001b[0m\u001b[0;31m:\u001b[0m invalid syntax\n"
          ]
        }
      ]
    },
    {
      "cell_type": "code",
      "metadata": {
        "id": "tgfjG-HS2A-p"
      },
      "source": [
        ""
      ],
      "execution_count": null,
      "outputs": []
    }
  ]
}